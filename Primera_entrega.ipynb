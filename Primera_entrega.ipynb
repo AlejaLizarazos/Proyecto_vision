{
 "cells": [
  {
   "cell_type": "markdown",
   "metadata": {},
   "source": [
    "\n",
    "<br>\n",
    "<p style=\"font-size: 45px;\n",
    "          text-align:center;\n",
    "          font-family: 'Times New Roman';\n",
    "          font-variant: small-caps;\n",
    "          font-weight: bold;\n",
    "          line-height: 50px;\"> Detección de Suciedad en Paneles Solares</p>\n",
    "<br>\n",
    "\n",
    "# Primera Entrega\n",
    "\n",
    "## Objetivo:\n",
    "\n",
    "* Determinar si un panel solar se encuentra con o sin suciedad.\n",
    "\n",
    "## Justificación:\n",
    "\n",
    "<br>\n",
    "<div style=\"text-align: justify;width:80%;margin: 0 auto\"> \n",
    "Actualmente la energía solar esta incursionando en el sector energetico dada su condición de ser energía renobable amigable con el medio ambiente, de acuerdo a la UPME  y al ministerio de minas y energía, en Colombia se estima que para antes del 2030 cerca del 10% del consumo energetico va a provenir de proyectos fotovoltaicos o solares [1]. Considerando el panorama que tiene este tipo de fuente de energía es de importancia establecer protocolos de mantenimiento para los dispositivos en cuestión, una de las condiciones que más afecta la generación de energía fotovoltaica es la suciedad en los paneles[2], pues esta puede hacer que la potencia producida disminuya significativamente, teniendo consecuencias económicas en los proyectos dado que esta pérdida es energía que se deja de ofrecer en el mercado energetico.\n",
    "</div>\n",
    "\n",
    "\n",
    "\n",
    "<br>\n",
    "\n",
    "<img src=\"https://deep-solar-eye.github.io/img/powerDiag.png\" width=500>\n",
    "<p style=\"text-align: center\">Figura 1. Pérdidas de potencia eléctrica (W) en presencia de suciedad</p>\n",
    "\n",
    "## Descripción de la base de datos\n",
    "\n",
    "<br>\n",
    "<div style=\"text-align: justify;width:80%;margin: 0 auto\"> \n",
    "La base de datos con la que se cuenta en este proyecto es tomada de un trabajo previo llamado \"Deep Solar Eye\", el cual suministra  más de 45 000 imagenes de paneles solares bajo condiciones controladas. Las imágenes en cuestión fueron adquiridas con una cámara RGB, el experimento realizado para la adquisición de las imagenes consta una instalación de dos paneles solares identicos uno al lado del otro, con la cámara en cuestión enfocandolos, a uno de los paneles se le fue agregando diferentes tipos de suciedad, mientras que, el segundo se utilizó solo como referencia. Las imagenes tomadas fueron adquiridas en intervalos de 5 segundos al tiempo que se tomaba registro del porcentaje de pérdidas en potencia (LW%) con relación al panel de referencia.\n",
    "</div>\n",
    "\n",
    "<br>\n",
    "\n",
    "\n",
    "<img src=\"res/Dataset.JPG\" width=300>\n",
    "<p style=\"text-align: center\">Figura 2. Registro de Potencia en los paneles solares con presencia de suciedad</p>\n",
    "\n",
    "\n",
    "<br>\n",
    "<br>\n",
    "\n",
    "\n",
    "<div style=\"text-align: justify;width:80%;margin: 0 auto\"> \n",
    "    Cada una de las imagenes tomadas cuenta con unos metadatos en su identificación. Por un lado se tiene registro de la fecha y hora de adquisición de la imagen, por otro lado, se tiene el porcentaje de pérdida en potencia respecto al panel de referencia, y adicionalmente se tiene el dato del nivel de irrdiancia del sol en el momento en cuestión.\n",
    "</div>\n",
    "\n",
    "<br>\n",
    "\n",
    "<img src=\"res/Dataset_Etiquetas.JPG\" width=500>\n",
    "<p style=\"text-align: center\">Figura 3. Etiquetado de las imagenes del dataset</p>\n",
    "\n",
    "<br>\n",
    "\n",
    "\n",
    "<div style=\"text-align: justify;width:80%;margin: 0 auto\"> \n",
    "En el dataset se cuenta con 8 tipos diferentes de suciedad (Polvo, Nieve, Excremento de ave, entre otros) que cuentan con la siguiente proporción:\n",
    "</div>\n",
    "\n",
    "\n",
    "<img src=\"res/Dataset_Distribucion.JPG\" width=500>\n",
    "<p style=\"text-align: center\">Figura 4. Proporción de las clases de suciedad en el dataset</p>\n",
    "\n",
    "\n"
   ]
  },
  {
   "cell_type": "markdown",
   "metadata": {},
   "source": [
    "# Presentación de GUI creada"
   ]
  },
  {
   "cell_type": "markdown",
   "metadata": {},
   "source": [
    "### Instalación de requerimietos adicionales"
   ]
  },
  {
   "cell_type": "code",
   "execution_count": 1,
   "metadata": {
    "collapsed": true
   },
   "outputs": [
    {
     "name": "stderr",
     "output_type": "stream",
     "text": [
      "WARNING: Ignoring invalid distribution -ip (d:\\programas\\anaconda\\lib\\site-packages)\n",
      "WARNING: Ignoring invalid distribution -ip (d:\\programas\\anaconda\\lib\\site-packages)\n",
      "WARNING: Ignoring invalid distribution -ip (d:\\programas\\anaconda\\lib\\site-packages)\n",
      "    WARNING: Ignoring invalid distribution -ip (d:\\programas\\anaconda\\lib\\site-packages)\n",
      "WARNING: Ignoring invalid distribution -ip (d:\\programas\\anaconda\\lib\\site-packages)\n",
      "WARNING: Ignoring invalid distribution -ip (d:\\programas\\anaconda\\lib\\site-packages)\n",
      "WARNING: Ignoring invalid distribution -ip (d:\\programas\\anaconda\\lib\\site-packages)\n",
      "WARNING: You are using pip version 21.1.3; however, version 21.2.3 is available.\n",
      "You should consider upgrading via the 'd:\\programas\\anaconda\\python.exe -m pip install --upgrade pip' command.\n"
     ]
    },
    {
     "name": "stdout",
     "output_type": "stream",
     "text": [
      "An error occured.\n",
      "ValueError: Please install Node.js and npm before continuing installation. You may be able to install Node.js from your package manager, from conda, or directly from the Node.js website (https://nodejs.org).\n",
      "See the log file for details:  C:\\Users\\USUARIO\\AppData\\Local\\Temp\\jupyterlab-debug-w8o9h_p2.log\n"
     ]
    }
   ],
   "source": [
    "!pip3 install -U -q ipywidgets\n",
    "!jupyter labextension install @jupyter-widgets/jupyterlab-manager #(Installing into JupyterLab 1 or 2)"
   ]
  },
  {
   "cell_type": "markdown",
   "metadata": {},
   "source": [
    "### Importar de librerías"
   ]
  },
  {
   "cell_type": "code",
   "execution_count": 1,
   "metadata": {},
   "outputs": [],
   "source": [
    "from ipywidgets import interact, interactive\n",
    "import ipywidgets as widgets\n",
    "\n",
    "import cv2\n",
    "import matplotlib.pyplot as plt\n",
    "import numpy as np\n",
    "import math\n",
    "from skimage import io, color\n",
    "from ipywidgets import Layout\n",
    "import os\n",
    "%matplotlib inline\n"
   ]
  },
  {
   "cell_type": "markdown",
   "metadata": {},
   "source": [
    "## Análisis de los espacios de color y operaciones sobre el histograma"
   ]
  },
  {
   "cell_type": "code",
   "execution_count": 3,
   "metadata": {
    "scrolled": false
   },
   "outputs": [
    {
     "data": {
      "application/vnd.jupyter.widget-view+json": {
       "model_id": "dc542acf495a450f8c9cf7a90700f5ee",
       "version_major": 2,
       "version_minor": 0
      },
      "text/plain": [
       "Tab(children=(Output(), Output(), Output(), Output(), Output(), Output(), Output()), _titles={'0': 'Suma', '1'…"
      ]
     },
     "metadata": {},
     "output_type": "display_data"
    }
   ],
   "source": [
    "import sys\n",
    "sys.path.append('./utils/')\n",
    "from utils.funciones_utiles import *\n",
    "\n",
    "out1 = widgets.Output()\n",
    "out2 = widgets.Output()\n",
    "out3 = widgets.Output()\n",
    "out4 = widgets.Output()\n",
    "out5 = widgets.Output()\n",
    "out6 = widgets.Output()\n",
    "out7 = widgets.Output()\n",
    "\n",
    "def analisis_espacio_color(color_space, channel, img, a, b, c, f, lineal):\n",
    "    \n",
    "    \n",
    "    img = cv2.imread(os.path.join(\"img/\",img+'.jpg'))\n",
    "    \n",
    "    img_tittle = color_space\n",
    "    channel_tittle = color_space[channel-1]\n",
    "    \n",
    "    cs = color_space\n",
    "    color_space = cv2.COLOR_BGR2RGB if color_space=='RGB' else \\\n",
    "                  cv2.COLOR_BGR2YUV if color_space=='YUB' else \\\n",
    "                  cv2.COLOR_BGR2HSV if color_space=='HSV' else \\\n",
    "                  cv2.COLOR_BGR2LAB if color_space=='HSL' else None\n",
    "    \n",
    "    img_space  = cv2.cvtColor(img, color_space)\n",
    "    \n",
    "    if not color_space:\n",
    "        \n",
    "        img_rgb = cv2.cvtColor(img, cv2.COLOR_BGR2RGB)\n",
    "        img_R = img_rgb[:,:,0]\n",
    "        img_G = img_rgb[:,:,1]\n",
    "        img_B = img_rgb[:,:,2]\n",
    "        \n",
    "        if cs=='CMY':\n",
    "            \n",
    "            img_space[:,:,0] = 255 - img_R\n",
    "            img_space[:,:,1] = 255 - img_G\n",
    "            img_space[:,:,2] = 255 - img_B\n",
    "            \n",
    "        elif cs=='YIQ':\n",
    "            \n",
    "            img_space[:,:,0] = 0.299*img_R + 0.587*img_G + 0.114*img_B\n",
    "            img_space[:,:,1] = 0.596*img_R - 0.274*img_G - 0.322*img_B\n",
    "            img_space[:,:,2] = 0.211*img_R - 0.523*img_G + 0.312*img_B\n",
    "        \n",
    "        elif cs=='HSL':\n",
    "            \n",
    "            img_space = rgb2hsl(img_rgb)\n",
    "            \n",
    "    if lineal == 'True':\n",
    "        img_space = apply_linear_function(img_space, f, [a,b,c])\n",
    "        img_channel = img_space[:,:,channel-1]\n",
    "    else:\n",
    "        img_space = apply_non_linear_function(img_space, f, [a,b])\n",
    "        img_channel = img_space[:,:,channel-1]\n",
    "    \n",
    "    fig, arreglo_plots = plt.subplots(1,2, figsize=(15, 8))\n",
    "    colors = ('r','g','b')    \n",
    "    \n",
    "    arreglo_plots[0].set_title(img_tittle)\n",
    "    arreglo_plots[0].imshow(img_channel, cmap=\"gray\")\n",
    "    arreglo_plots[1].set_title('Histograma Canal '+ channel_tittle)\n",
    "    img_array = img_channel.ravel()\n",
    "    arreglo_plots[1].hist(img_array,histtype='step', bins=255, \n",
    "                            range=(0.0, 255.0),density=True, color=colors[channel-1],\n",
    "                             )\n",
    "    plt.show()\n",
    "\n",
    "box_layout = Layout(display='flex',\n",
    "                    flex_flow='column',\n",
    "                    align_items='stretch',\n",
    "                    width= 'max-content',)\n",
    "\n",
    "def show_interact(function, max_v=0, min_v=0, step=0, lineal=True):\n",
    "    interact(\n",
    "        analisis_espacio_color,\n",
    "        color_space=widgets.ToggleButtons(\n",
    "                                        options=['RGB','CMY','YIQ','YUB','HSL','HSV','LAB'],\n",
    "                                        description='Escoge el espacio de color a usar:',\n",
    "                                        disabled=False,\n",
    "                                        button_style='info',\n",
    "                                        tooltips=['modelo aditivo', 'modelo sustractivo', 'Description of fast',\n",
    "                                                  'separa la información de intensidad o luminancia',\n",
    "                                                  'ancho de banda reducido para los componentes de crominancia',\n",
    "                                                  'fácilmente interpretables y legibles por un humano ...',\n",
    "                                                  '... métodos en los que la representación del componente de color no es lineal',\n",
    "                                                  'L -> información sobre luminosidad, a* y b* -> información de color'],\n",
    "                                        layout=box_layout,\n",
    "                                        style= {'description_width': '200px'}\n",
    "                                        ),\n",
    "        channel=widgets.RadioButtons(description=\"Escoge el canal a visualizar:\", options=[1, 2, 3],style= {'description_width': 'auto'}, ),\n",
    "\n",
    "        a = widgets.FloatSlider(value=0,\n",
    "                                    min=min_v,\n",
    "                                    max=max_v,\n",
    "                                    step=step,\n",
    "                                    description='canal 1:',\n",
    "                                    disabled=False,\n",
    "                                    continuous_update=False,\n",
    "                                    orientation='horizontal',\n",
    "                                    readout=True,\n",
    "                                    readout_format='.1f',\n",
    "                                    layout=Layout(visibility='hidden') if (not lineal and function!='T. gamma') else Layout()\n",
    "                                ),\n",
    "        b = widgets.FloatSlider(value=0,\n",
    "                                    min=min_v,\n",
    "                                    max=max_v,\n",
    "                                    step=step,\n",
    "                                    description='canal 2:',\n",
    "                                    disabled=False,\n",
    "                                    continuous_update=False,\n",
    "                                    orientation='horizontal',\n",
    "                                    readout=True,\n",
    "                                    readout_format='.1f',\n",
    "                                    layout=Layout(visibility='hidden') if (not lineal and function!='T. gamma') else Layout()\n",
    "                                ),\n",
    "        c = widgets.FloatSlider(value=0,\n",
    "                                    min=min_v,\n",
    "                                    max=max_v,\n",
    "                                    step=step,\n",
    "                                    description='canal 3:',\n",
    "                                    disabled=False,\n",
    "                                    continuous_update=False,\n",
    "                                    orientation='horizontal',\n",
    "                                    readout=True,\n",
    "                                    readout_format='.1f',\n",
    "                                    layout=Layout(visibility='hidden') if not lineal else Layout()\n",
    "                                ),\n",
    "        f = widgets.Text(\n",
    "                                value=function,\n",
    "                                placeholder='Type something',\n",
    "                                description='String:',\n",
    "                                disabled=False,\n",
    "                                layout=Layout(visibility='hidden')\n",
    "                            ),\n",
    "        lineal = widgets.Text(\n",
    "                                value=str(lineal),\n",
    "                                placeholder='Type something',\n",
    "                                description='String:',\n",
    "                                disabled=False,\n",
    "                                layout=Layout(visibility='hidden')\n",
    "                            ),\n",
    "        \n",
    "        img=widgets.Dropdown(\n",
    "            options=[\"B1\", \"B2\", \"B3\",\"B4\", \"B5\", \"B6\",\"B7\", \"B8\", \"B9\",\"B10\", \"B11\", \"B12\"], value=\"B1\", description=\"Escoger imagen:\",\n",
    "            style= {'description_width': 'auto'}\n",
    "        ),\n",
    "    );\n",
    "    \n",
    "    \n",
    "with out1:\n",
    "    show_interact('suma', 255, 0, 1)\n",
    "    \n",
    "with out2:\n",
    "    show_interact('resta', 255, 0,  1)\n",
    "    \n",
    "with out3:\n",
    "    show_interact('multiplicacion', 5, 0, 1)\n",
    "    \n",
    "with out4:\n",
    "    show_interact('division', 1, 0, 0.01)\n",
    "    \n",
    "with out5:\n",
    "    show_interact('T. gamma',2,0,0.1, lineal=False)\n",
    "\n",
    "with out6:\n",
    "    show_interact('Ec. histograma', lineal=False)\n",
    "\n",
    "with out7:\n",
    "    show_interact('Exp. histograma', lineal=False)\n",
    "    \n",
    "tab = widgets.Tab(children = [out1, out2, out3, out4, out5, out6, out7])\n",
    "tab.set_title(0, 'Suma')\n",
    "tab.set_title(1, 'Resta')\n",
    "tab.set_title(2, 'Multiplicación')\n",
    "tab.set_title(3, 'División')\n",
    "tab.set_title(4, 'T. gamma')\n",
    "tab.set_title(5, 'Ec. histograma')\n",
    "tab.set_title(6, 'Exp. histograma')\n",
    "\n",
    "display(tab)"
   ]
  },
  {
   "cell_type": "markdown",
   "metadata": {},
   "source": [
    "# Operaciones sobre el histograma"
   ]
  },
  {
   "cell_type": "markdown",
   "metadata": {},
   "source": [
    "## Transformaciones lineales"
   ]
  },
  {
   "cell_type": "code",
   "execution_count": null,
   "metadata": {},
   "outputs": [],
   "source": []
  },
  {
   "cell_type": "markdown",
   "metadata": {},
   "source": [
    "# Transformaciones Finales\n",
    "\n",
    "## Creación de la mascara del Panel"
   ]
  },
  {
   "cell_type": "code",
   "execution_count": 8,
   "metadata": {},
   "outputs": [
    {
     "data": {
      "text/plain": [
       "<matplotlib.image.AxesImage at 0x1bae2c90e20>"
      ]
     },
     "execution_count": 8,
     "metadata": {},
     "output_type": "execute_result"
    },
    {
     "data": {
      "image/png": "[encoded data removed]",
      "text/plain": [
       "<Figure size 432x288 with 1 Axes>"
      ]
     },
     "metadata": {
      "needs_background": "light"
     },
     "output_type": "display_data"
    }
   ],
   "source": [
    "img='Limpio'\n",
    "\n",
    "\n",
    "img_rgb = cv2.imread(os.path.join(\"img/\",img+'.jpg'))\n",
    "\n",
    "\n",
    "HLS= cv2.cvtColor(img_rgb,cv2.COLOR_RGB2HLS)\n",
    "img_H_HLS = HLS[:, :, 0]\n",
    "img_L_HLS = HLS[:, :, 1]\n",
    "img_S_HLS = HLS[:, :, 2]\n",
    "\n",
    "\n",
    "mask=np.zeros_like(img_rgb)\n",
    "mask[img_S_HLS > 35]=255 \n",
    "\n",
    "\n",
    "plt.imshow(mask,cmap='gray')"
   ]
  },
  {
   "cell_type": "markdown",
   "metadata": {},
   "source": [
    "# Referencias \n",
    "\n",
    "[1] https://eficienciaenergetica.celsia.com/todo-lo-que-debes-saber-sobre-energia-solar-en-colombia/ <br><br>\n",
    "[2] https://deep-solar-eye.github.io/"
   ]
  }
 ],
 "metadata": {
  "kernelspec": {
   "display_name": "Python 3",
   "language": "python",
   "name": "python3"
  },
  "language_info": {
   "codemirror_mode": {
    "name": "ipython",
    "version": 3
   },
   "file_extension": ".py",
   "mimetype": "text/x-python",
   "name": "python",
   "nbconvert_exporter": "python",
   "pygments_lexer": "ipython3",
   "version": "3.8.5"
  },
  "toc": {
   "base_numbering": 1,
   "nav_menu": {},
   "number_sections": true,
   "sideBar": true,
   "skip_h1_title": false,
   "title_cell": "Table of Contents",
   "title_sidebar": "Contents",
   "toc_cell": false,
   "toc_position": {},
   "toc_section_display": true,
   "toc_window_display": false
  },
  "varInspector": {
   "cols": {
    "lenName": 16,
    "lenType": 16,
    "lenVar": 40
   },
   "kernels_config": {
    "python": {
     "delete_cmd_postfix": "",
     "delete_cmd_prefix": "del ",
     "library": "var_list.py",
     "varRefreshCmd": "print(var_dic_list())"
    },
    "r": {
     "delete_cmd_postfix": ") ",
     "delete_cmd_prefix": "rm(",
     "library": "var_list.r",
     "varRefreshCmd": "cat(var_dic_list()) "
    }
   },
   "types_to_exclude": [
    "module",
    "function",
    "builtin_function_or_method",
    "instance",
    "_Feature"
   ],
   "window_display": false
  }
 },
 "nbformat": 4,
 "nbformat_minor": 5
}
